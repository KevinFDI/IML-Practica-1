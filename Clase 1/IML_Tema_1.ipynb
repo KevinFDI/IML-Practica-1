{
  "nbformat": 4,
  "nbformat_minor": 0,
  "metadata": {
    "colab": {
      "name": "IML - Tema 1",
      "provenance": [],
      "collapsed_sections": []
    },
    "kernelspec": {
      "name": "python3",
      "display_name": "Python 3"
    },
    "language_info": {
      "name": "python"
    }
  },
  "cells": [
    {
      "cell_type": "markdown",
      "source": [
        "# **VISUALIZACION Y PREPROCESAMIENTO**"
      ],
      "metadata": {
        "id": "9NXqFfbF-uzo"
      }
    },
    {
      "cell_type": "markdown",
      "source": [
        "* Pandas es una librería de código abierto, fácil de usar, que provee manejo para carga y análisis de datos, entre otras funcionalidad.\n",
        "* Es una librería muy utilizada para cargar archivos CSV o XLS.\n",
        "* Cada columna tiene nombres, y pueden contener información de diferente tipo.\n",
        "* Muchas funciones de visualización y preprocesamiento"
      ],
      "metadata": {
        "id": "bELSMVtD70UJ"
      }
    },
    {
      "cell_type": "code",
      "execution_count": null,
      "metadata": {
        "id": "96tvdIMS5fsE"
      },
      "outputs": [],
      "source": [
        "import pandas as pd"
      ]
    },
    {
      "cell_type": "markdown",
      "source": [
        "Es la librería gráfica más utilizada para realizar gráficos en Python."
      ],
      "metadata": {
        "id": "CR5dKnwI7RDI"
      }
    },
    {
      "cell_type": "markdown",
      "source": [
        "Importo la librería numpy."
      ],
      "metadata": {
        "id": "5VQ8otOI-1YL"
      }
    },
    {
      "cell_type": "code",
      "source": [
        "import numpy as np"
      ],
      "metadata": {
        "id": "A_DLifee-1kg"
      },
      "execution_count": null,
      "outputs": []
    },
    {
      "cell_type": "markdown",
      "source": [
        "**MATPLOTLIB**"
      ],
      "metadata": {
        "id": "k64j0DQP-7JS"
      }
    },
    {
      "cell_type": "code",
      "source": [
        "import matplotlib.pyplot as plt"
      ],
      "metadata": {
        "id": "Q8zANojp7SZ_"
      },
      "execution_count": null,
      "outputs": []
    },
    {
      "cell_type": "markdown",
      "source": [
        "La función plot(x,y) permite realizar un gráfico 2D de la variable y en función de x.\n",
        "Copie y pegue el siguiente código en un nuevo documento de Python."
      ],
      "metadata": {
        "id": "a5jqi-zo7KtX"
      }
    },
    {
      "cell_type": "code",
      "source": [
        "x= np.arange(0, 360)\n",
        "y= np.sin(x * np.pi / 180.)\n",
        "plt.plot(x,y)"
      ],
      "metadata": {
        "colab": {
          "base_uri": "https://localhost:8080/",
          "height": 283
        },
        "id": "fjw9u7jc5o-2",
        "outputId": "d42d2cee-830f-4dfe-a0e9-74aa02f6a958"
      },
      "execution_count": null,
      "outputs": [
        {
          "output_type": "execute_result",
          "data": {
            "text/plain": [
              "[<matplotlib.lines.Line2D at 0x7f7d7773a690>]"
            ]
          },
          "metadata": {},
          "execution_count": 3
        },
        {
          "output_type": "display_data",
          "data": {
            "text/plain": [
              "<Figure size 432x288 with 1 Axes>"
            ],
            "image/png": "[encoded data removed]"
          },
          "metadata": {
            "needs_background": "light"
          }
        }
      ]
    },
    {
      "cell_type": "markdown",
      "source": [
        "Nueva figura. Sino, todo lo ejecutado por matplotlib será impreso en la figura activa."
      ],
      "metadata": {
        "id": "ka5RzdZS7Xsm"
      }
    },
    {
      "cell_type": "code",
      "source": [
        "plt.figure()"
      ],
      "metadata": {
        "colab": {
          "base_uri": "https://localhost:8080/",
          "height": 53
        },
        "id": "jkM-pDGu6_TR",
        "outputId": "6989a674-e0f9-4b55-a18d-eec6ce0fdf7c"
      },
      "execution_count": null,
      "outputs": [
        {
          "output_type": "execute_result",
          "data": {
            "text/plain": [
              "<Figure size 432x288 with 0 Axes>"
            ]
          },
          "metadata": {},
          "execution_count": 4
        },
        {
          "output_type": "display_data",
          "data": {
            "text/plain": [
              "<Figure size 432x288 with 0 Axes>"
            ]
          },
          "metadata": {}
        }
      ]
    },
    {
      "cell_type": "markdown",
      "source": [
        "Matplotlib permite adornar las figuras con mucha información adicional."
      ],
      "metadata": {
        "id": "1ir2FF6_7cv5"
      }
    },
    {
      "cell_type": "code",
      "source": [
        "plt.xlabel('ángulo')\n",
        "plt.ylabel('seno(x) ')\n",
        "plt.title('Seno de x entre 0 y 360º')\n",
        "plt.grid()\n",
        "plt.savefig('figura.png')"
      ],
      "metadata": {
        "colab": {
          "base_uri": "https://localhost:8080/",
          "height": 296
        },
        "id": "gKKXCMnc7AU_",
        "outputId": "fe28bfc0-27fa-4fe7-b170-50e9b10b4560"
      },
      "execution_count": null,
      "outputs": [
        {
          "output_type": "display_data",
          "data": {
            "text/plain": [
              "<Figure size 432x288 with 1 Axes>"
            ],
            "image/png": "[encoded data removed]"
          },
          "metadata": {
            "needs_background": "light"
          }
        }
      ]
    },
    {
      "cell_type": "markdown",
      "source": [
        "Graficando con diferentes marcadores y líneas."
      ],
      "metadata": {
        "id": "Q4PeQxuF7h0R"
      }
    },
    {
      "cell_type": "code",
      "source": [
        "y= np.sin(x * np.pi / 180.)\n",
        "plt.plot(x,y, 'bs')\n",
        "y= np.cos(x * np.pi / 180.)\n",
        "plt.plot(x,y, '--r')"
      ],
      "metadata": {
        "colab": {
          "base_uri": "https://localhost:8080/",
          "height": 283
        },
        "id": "jA25oxfN7DPP",
        "outputId": "ab41189a-7d2c-429a-bf20-5909904956b0"
      },
      "execution_count": null,
      "outputs": [
        {
          "output_type": "execute_result",
          "data": {
            "text/plain": [
              "[<matplotlib.lines.Line2D at 0x7f7d7716ec50>]"
            ]
          },
          "metadata": {},
          "execution_count": 6
        },
        {
          "output_type": "display_data",
          "data": {
            "text/plain": [
              "<Figure size 432x288 with 1 Axes>"
            ],
            "image/png": "[encoded data removed]"
          },
          "metadata": {
            "needs_background": "light"
          }
        }
      ]
    },
    {
      "cell_type": "markdown",
      "source": [
        "Graficando en varias subfiguras."
      ],
      "metadata": {
        "id": "sJf946jj7o4v"
      }
    },
    {
      "cell_type": "code",
      "source": [
        "plt.figure('Titulo')\n",
        "plt.subplot(211) # 2 x 1, indice=1\n",
        "y= np.sin(x * np.pi / 180.)\n",
        "plt.plot(x, y, 'g^')\n",
        "plt.subplot(212) # 2 x 1, indice=2\n",
        "y= np.cos(x * np.pi / 180.)\n",
        "plt.plot(x, y, 'bo')"
      ],
      "metadata": {
        "colab": {
          "base_uri": "https://localhost:8080/",
          "height": 283
        },
        "id": "74ujMgTg7rMQ",
        "outputId": "9698c9cc-17aa-4318-c0ea-6c3a6380186d"
      },
      "execution_count": null,
      "outputs": [
        {
          "output_type": "execute_result",
          "data": {
            "text/plain": [
              "[<matplotlib.lines.Line2D at 0x7f7d770a9890>]"
            ]
          },
          "metadata": {},
          "execution_count": 7
        },
        {
          "output_type": "display_data",
          "data": {
            "text/plain": [
              "<Figure size 432x288 with 2 Axes>"
            ],
            "image/png": "[encoded data removed]"
          },
          "metadata": {
            "needs_background": "light"
          }
        }
      ]
    },
    {
      "cell_type": "markdown",
      "source": [
        "# 3) ANÁLISIS DE DATASET"
      ],
      "metadata": {
        "id": "9pedkG4v8fDu"
      }
    },
    {
      "cell_type": "markdown",
      "source": [
        "**VISUALIZACION IRIS DATASET - PANDAS**"
      ],
      "metadata": {
        "id": "KJnw3ode_Fww"
      }
    },
    {
      "cell_type": "markdown",
      "source": [
        "El dataset “Iris” está almacenado en un archivo “cvs” (Comma Separated Values). Estos son archivos de texto plano, donde cada registro está delimitado por un Enter (retorno de carro), y cada columna por una coma (,).\n",
        "El dataset contiene información sobre 3 especies distintas de flores. Contiene 4 atributos: tamaño y largo del pétalo, tamaño y largo del sépalo."
      ],
      "metadata": {
        "id": "S58s93T08RIa"
      }
    },
    {
      "cell_type": "markdown",
      "source": [
        "**A. Abriendo Iris Dataset con Pandas**"
      ],
      "metadata": {
        "id": "SlYcTswPA6Xh"
      }
    },
    {
      "cell_type": "code",
      "source": [
        "iris = pd.read_csv(\"/content/iris.csv\")"
      ],
      "metadata": {
        "id": "Gj8Oxwjn8c5W"
      },
      "execution_count": null,
      "outputs": []
    },
    {
      "cell_type": "markdown",
      "source": [
        "Desde una consola, con este comando podemos ver los primeros datos en el dataframe.\n"
      ],
      "metadata": {
        "id": "Dyxl98f991lo"
      }
    },
    {
      "cell_type": "code",
      "source": [
        "round(iris.head(), 2)"
      ],
      "metadata": {
        "colab": {
          "base_uri": "https://localhost:8080/",
          "height": 206
        },
        "id": "j_DU5sJ19xIv",
        "outputId": "c4c429d7-ce97-441a-a943-bcee0bc0591a"
      },
      "execution_count": null,
      "outputs": [
        {
          "output_type": "execute_result",
          "data": {
            "text/plain": [
              "   sepal_length  sepal_width  petal_length  petal_width    name\n",
              "0           5.1          3.5           1.4          0.2  setosa\n",
              "1           4.9          3.0           1.4          0.2  setosa\n",
              "2           4.7          3.2           1.3          0.2  setosa\n",
              "3           4.6          3.1           1.5          0.2  setosa\n",
              "4           5.0          3.6           1.4          0.2  setosa"
            ],
            "text/html": [
              "\n",
              "  <div id=\"df-00e8a823-105f-4249-8987-8f6f970e47f7\">\n",
              "    <div class=\"colab-df-container\">\n",
              "      <div>\n",
              "<style scoped>\n",
              "    .dataframe tbody tr th:only-of-type {\n",
              "        vertical-align: middle;\n",
              "    }\n",
              "\n",
              "    .dataframe tbody tr th {\n",
              "        vertical-align: top;\n",
              "    }\n",
              "\n",
              "    .dataframe thead th {\n",
              "        text-align: right;\n",
              "    }\n",
              "</style>\n",
              "<table border=\"1\" class=\"dataframe\">\n",
              "  <thead>\n",
              "    <tr style=\"text-align: right;\">\n",
              "      <th></th>\n",
              "      <th>sepal_length</th>\n",
              "      <th>sepal_width</th>\n",
              "      <th>petal_length</th>\n",
              "      <th>petal_width</th>\n",
              "      <th>name</th>\n",
              "    </tr>\n",
              "  </thead>\n",
              "  <tbody>\n",
              "    <tr>\n",
              "      <th>0</th>\n",
              "      <td>5.1</td>\n",
              "      <td>3.5</td>\n",
              "      <td>1.4</td>\n",
              "      <td>0.2</td>\n",
              "      <td>setosa</td>\n",
              "    </tr>\n",
              "    <tr>\n",
              "      <th>1</th>\n",
              "      <td>4.9</td>\n",
              "      <td>3.0</td>\n",
              "      <td>1.4</td>\n",
              "      <td>0.2</td>\n",
              "      <td>setosa</td>\n",
              "    </tr>\n",
              "    <tr>\n",
              "      <th>2</th>\n",
              "      <td>4.7</td>\n",
              "      <td>3.2</td>\n",
              "      <td>1.3</td>\n",
              "      <td>0.2</td>\n",
              "      <td>setosa</td>\n",
              "    </tr>\n",
              "    <tr>\n",
              "      <th>3</th>\n",
              "      <td>4.6</td>\n",
              "      <td>3.1</td>\n",
              "      <td>1.5</td>\n",
              "      <td>0.2</td>\n",
              "      <td>setosa</td>\n",
              "    </tr>\n",
              "    <tr>\n",
              "      <th>4</th>\n",
              "      <td>5.0</td>\n",
              "      <td>3.6</td>\n",
              "      <td>1.4</td>\n",
              "      <td>0.2</td>\n",
              "      <td>setosa</td>\n",
              "    </tr>\n",
              "  </tbody>\n",
              "</table>\n",
              "</div>\n",
              "      <button class=\"colab-df-convert\" onclick=\"convertToInteractive('df-00e8a823-105f-4249-8987-8f6f970e47f7')\"\n",
              "              title=\"Convert this dataframe to an interactive table.\"\n",
              "              style=\"display:none;\">\n",
              "        \n",
              "  <svg xmlns=\"http://www.w3.org/2000/svg\" height=\"24px\"viewBox=\"0 0 24 24\"\n",
              "       width=\"24px\">\n",
              "    <path d=\"M0 0h24v24H0V0z\" fill=\"none\"/>\n",
              "    <path d=\"M18.56 5.44l.94 2.06.94-2.06 2.06-.94-2.06-.94-.94-2.06-.94 2.06-2.06.94zm-11 1L8.5 8.5l.94-2.06 2.06-.94-2.06-.94L8.5 2.5l-.94 2.06-2.06.94zm10 10l.94 2.06.94-2.06 2.06-.94-2.06-.94-.94-2.06-.94 2.06-2.06.94z\"/><path d=\"M17.41 7.96l-1.37-1.37c-.4-.4-.92-.59-1.43-.59-.52 0-1.04.2-1.43.59L10.3 9.45l-7.72 7.72c-.78.78-.78 2.05 0 2.83L4 21.41c.39.39.9.59 1.41.59.51 0 1.02-.2 1.41-.59l7.78-7.78 2.81-2.81c.8-.78.8-2.07 0-2.86zM5.41 20L4 18.59l7.72-7.72 1.47 1.35L5.41 20z\"/>\n",
              "  </svg>\n",
              "      </button>\n",
              "      \n",
              "  <style>\n",
              "    .colab-df-container {\n",
              "      display:flex;\n",
              "      flex-wrap:wrap;\n",
              "      gap: 12px;\n",
              "    }\n",
              "\n",
              "    .colab-df-convert {\n",
              "      background-color: #E8F0FE;\n",
              "      border: none;\n",
              "      border-radius: 50%;\n",
              "      cursor: pointer;\n",
              "      display: none;\n",
              "      fill: #1967D2;\n",
              "      height: 32px;\n",
              "      padding: 0 0 0 0;\n",
              "      width: 32px;\n",
              "    }\n",
              "\n",
              "    .colab-df-convert:hover {\n",
              "      background-color: #E2EBFA;\n",
              "      box-shadow: 0px 1px 2px rgba(60, 64, 67, 0.3), 0px 1px 3px 1px rgba(60, 64, 67, 0.15);\n",
              "      fill: #174EA6;\n",
              "    }\n",
              "\n",
              "    [theme=dark] .colab-df-convert {\n",
              "      background-color: #3B4455;\n",
              "      fill: #D2E3FC;\n",
              "    }\n",
              "\n",
              "    [theme=dark] .colab-df-convert:hover {\n",
              "      background-color: #434B5C;\n",
              "      box-shadow: 0px 1px 3px 1px rgba(0, 0, 0, 0.15);\n",
              "      filter: drop-shadow(0px 1px 2px rgba(0, 0, 0, 0.3));\n",
              "      fill: #FFFFFF;\n",
              "    }\n",
              "  </style>\n",
              "\n",
              "      <script>\n",
              "        const buttonEl =\n",
              "          document.querySelector('#df-00e8a823-105f-4249-8987-8f6f970e47f7 button.colab-df-convert');\n",
              "        buttonEl.style.display =\n",
              "          google.colab.kernel.accessAllowed ? 'block' : 'none';\n",
              "\n",
              "        async function convertToInteractive(key) {\n",
              "          const element = document.querySelector('#df-00e8a823-105f-4249-8987-8f6f970e47f7');\n",
              "          const dataTable =\n",
              "            await google.colab.kernel.invokeFunction('convertToInteractive',\n",
              "                                                     [key], {});\n",
              "          if (!dataTable) return;\n",
              "\n",
              "          const docLinkHtml = 'Like what you see? Visit the ' +\n",
              "            '<a target=\"_blank\" href=https://colab.research.google.com/notebooks/data_table.ipynb>data table notebook</a>'\n",
              "            + ' to learn more about interactive tables.';\n",
              "          element.innerHTML = '';\n",
              "          dataTable['output_type'] = 'display_data';\n",
              "          await google.colab.output.renderOutput(dataTable, element);\n",
              "          const docLink = document.createElement('div');\n",
              "          docLink.innerHTML = docLinkHtml;\n",
              "          element.appendChild(docLink);\n",
              "        }\n",
              "      </script>\n",
              "    </div>\n",
              "  </div>\n",
              "  "
            ]
          },
          "metadata": {},
          "execution_count": 9
        }
      ]
    },
    {
      "cell_type": "markdown",
      "source": [
        "Desde una consola, con este comando podemos ver un análisis estadístico rápido de las variables."
      ],
      "metadata": {
        "id": "yR3gCGJ_95yX"
      }
    },
    {
      "cell_type": "code",
      "source": [
        "round(iris.describe(), 2)"
      ],
      "metadata": {
        "colab": {
          "base_uri": "https://localhost:8080/",
          "height": 300
        },
        "id": "Hc-Btqpi-ANf",
        "outputId": "5bedd311-3def-4277-b266-b0ee6aa8bad2"
      },
      "execution_count": null,
      "outputs": [
        {
          "output_type": "execute_result",
          "data": {
            "text/plain": [
              "       sepal_length  sepal_width  petal_length  petal_width\n",
              "count        150.00       150.00        150.00       150.00\n",
              "mean           5.84         3.05          3.76         1.20\n",
              "std            0.83         0.43          1.76         0.76\n",
              "min            4.30         2.00          1.00         0.10\n",
              "25%            5.10         2.80          1.60         0.30\n",
              "50%            5.80         3.00          4.35         1.30\n",
              "75%            6.40         3.30          5.10         1.80\n",
              "max            7.90         4.40          6.90         2.50"
            ],
            "text/html": [
              "\n",
              "  <div id=\"df-606345b6-d215-4465-bb02-32a381e56e16\">\n",
              "    <div class=\"colab-df-container\">\n",
              "      <div>\n",
              "<style scoped>\n",
              "    .dataframe tbody tr th:only-of-type {\n",
              "        vertical-align: middle;\n",
              "    }\n",
              "\n",
              "    .dataframe tbody tr th {\n",
              "        vertical-align: top;\n",
              "    }\n",
              "\n",
              "    .dataframe thead th {\n",
              "        text-align: right;\n",
              "    }\n",
              "</style>\n",
              "<table border=\"1\" class=\"dataframe\">\n",
              "  <thead>\n",
              "    <tr style=\"text-align: right;\">\n",
              "      <th></th>\n",
              "      <th>sepal_length</th>\n",
              "      <th>sepal_width</th>\n",
              "      <th>petal_length</th>\n",
              "      <th>petal_width</th>\n",
              "    </tr>\n",
              "  </thead>\n",
              "  <tbody>\n",
              "    <tr>\n",
              "      <th>count</th>\n",
              "      <td>150.00</td>\n",
              "      <td>150.00</td>\n",
              "      <td>150.00</td>\n",
              "      <td>150.00</td>\n",
              "    </tr>\n",
              "    <tr>\n",
              "      <th>mean</th>\n",
              "      <td>5.84</td>\n",
              "      <td>3.05</td>\n",
              "      <td>3.76</td>\n",
              "      <td>1.20</td>\n",
              "    </tr>\n",
              "    <tr>\n",
              "      <th>std</th>\n",
              "      <td>0.83</td>\n",
              "      <td>0.43</td>\n",
              "      <td>1.76</td>\n",
              "      <td>0.76</td>\n",
              "    </tr>\n",
              "    <tr>\n",
              "      <th>min</th>\n",
              "      <td>4.30</td>\n",
              "      <td>2.00</td>\n",
              "      <td>1.00</td>\n",
              "      <td>0.10</td>\n",
              "    </tr>\n",
              "    <tr>\n",
              "      <th>25%</th>\n",
              "      <td>5.10</td>\n",
              "      <td>2.80</td>\n",
              "      <td>1.60</td>\n",
              "      <td>0.30</td>\n",
              "    </tr>\n",
              "    <tr>\n",
              "      <th>50%</th>\n",
              "      <td>5.80</td>\n",
              "      <td>3.00</td>\n",
              "      <td>4.35</td>\n",
              "      <td>1.30</td>\n",
              "    </tr>\n",
              "    <tr>\n",
              "      <th>75%</th>\n",
              "      <td>6.40</td>\n",
              "      <td>3.30</td>\n",
              "      <td>5.10</td>\n",
              "      <td>1.80</td>\n",
              "    </tr>\n",
              "    <tr>\n",
              "      <th>max</th>\n",
              "      <td>7.90</td>\n",
              "      <td>4.40</td>\n",
              "      <td>6.90</td>\n",
              "      <td>2.50</td>\n",
              "    </tr>\n",
              "  </tbody>\n",
              "</table>\n",
              "</div>\n",
              "      <button class=\"colab-df-convert\" onclick=\"convertToInteractive('df-606345b6-d215-4465-bb02-32a381e56e16')\"\n",
              "              title=\"Convert this dataframe to an interactive table.\"\n",
              "              style=\"display:none;\">\n",
              "        \n",
              "  <svg xmlns=\"http://www.w3.org/2000/svg\" height=\"24px\"viewBox=\"0 0 24 24\"\n",
              "       width=\"24px\">\n",
              "    <path d=\"M0 0h24v24H0V0z\" fill=\"none\"/>\n",
              "    <path d=\"M18.56 5.44l.94 2.06.94-2.06 2.06-.94-2.06-.94-.94-2.06-.94 2.06-2.06.94zm-11 1L8.5 8.5l.94-2.06 2.06-.94-2.06-.94L8.5 2.5l-.94 2.06-2.06.94zm10 10l.94 2.06.94-2.06 2.06-.94-2.06-.94-.94-2.06-.94 2.06-2.06.94z\"/><path d=\"M17.41 7.96l-1.37-1.37c-.4-.4-.92-.59-1.43-.59-.52 0-1.04.2-1.43.59L10.3 9.45l-7.72 7.72c-.78.78-.78 2.05 0 2.83L4 21.41c.39.39.9.59 1.41.59.51 0 1.02-.2 1.41-.59l7.78-7.78 2.81-2.81c.8-.78.8-2.07 0-2.86zM5.41 20L4 18.59l7.72-7.72 1.47 1.35L5.41 20z\"/>\n",
              "  </svg>\n",
              "      </button>\n",
              "      \n",
              "  <style>\n",
              "    .colab-df-container {\n",
              "      display:flex;\n",
              "      flex-wrap:wrap;\n",
              "      gap: 12px;\n",
              "    }\n",
              "\n",
              "    .colab-df-convert {\n",
              "      background-color: #E8F0FE;\n",
              "      border: none;\n",
              "      border-radius: 50%;\n",
              "      cursor: pointer;\n",
              "      display: none;\n",
              "      fill: #1967D2;\n",
              "      height: 32px;\n",
              "      padding: 0 0 0 0;\n",
              "      width: 32px;\n",
              "    }\n",
              "\n",
              "    .colab-df-convert:hover {\n",
              "      background-color: #E2EBFA;\n",
              "      box-shadow: 0px 1px 2px rgba(60, 64, 67, 0.3), 0px 1px 3px 1px rgba(60, 64, 67, 0.15);\n",
              "      fill: #174EA6;\n",
              "    }\n",
              "\n",
              "    [theme=dark] .colab-df-convert {\n",
              "      background-color: #3B4455;\n",
              "      fill: #D2E3FC;\n",
              "    }\n",
              "\n",
              "    [theme=dark] .colab-df-convert:hover {\n",
              "      background-color: #434B5C;\n",
              "      box-shadow: 0px 1px 3px 1px rgba(0, 0, 0, 0.15);\n",
              "      filter: drop-shadow(0px 1px 2px rgba(0, 0, 0, 0.3));\n",
              "      fill: #FFFFFF;\n",
              "    }\n",
              "  </style>\n",
              "\n",
              "      <script>\n",
              "        const buttonEl =\n",
              "          document.querySelector('#df-606345b6-d215-4465-bb02-32a381e56e16 button.colab-df-convert');\n",
              "        buttonEl.style.display =\n",
              "          google.colab.kernel.accessAllowed ? 'block' : 'none';\n",
              "\n",
              "        async function convertToInteractive(key) {\n",
              "          const element = document.querySelector('#df-606345b6-d215-4465-bb02-32a381e56e16');\n",
              "          const dataTable =\n",
              "            await google.colab.kernel.invokeFunction('convertToInteractive',\n",
              "                                                     [key], {});\n",
              "          if (!dataTable) return;\n",
              "\n",
              "          const docLinkHtml = 'Like what you see? Visit the ' +\n",
              "            '<a target=\"_blank\" href=https://colab.research.google.com/notebooks/data_table.ipynb>data table notebook</a>'\n",
              "            + ' to learn more about interactive tables.';\n",
              "          element.innerHTML = '';\n",
              "          dataTable['output_type'] = 'display_data';\n",
              "          await google.colab.output.renderOutput(dataTable, element);\n",
              "          const docLink = document.createElement('div');\n",
              "          docLink.innerHTML = docLinkHtml;\n",
              "          element.appendChild(docLink);\n",
              "        }\n",
              "      </script>\n",
              "    </div>\n",
              "  </div>\n",
              "  "
            ]
          },
          "metadata": {},
          "execution_count": 10
        }
      ]
    },
    {
      "cell_type": "markdown",
      "source": [
        "Cuenta la cantidad de ítems en la columna seleccionada."
      ],
      "metadata": {
        "id": "eQu_32AC-Bbo"
      }
    },
    {
      "cell_type": "code",
      "source": [
        "iris['name'].value_counts()"
      ],
      "metadata": {
        "colab": {
          "base_uri": "https://localhost:8080/"
        },
        "id": "YfQNaBsk-D-i",
        "outputId": "acd6a175-9c97-4c5d-aae2-d741c11fd7a7"
      },
      "execution_count": null,
      "outputs": [
        {
          "output_type": "execute_result",
          "data": {
            "text/plain": [
              "setosa        50\n",
              "versicolor    50\n",
              "virginica     50\n",
              "Name: name, dtype: int64"
            ]
          },
          "metadata": {},
          "execution_count": 11
        }
      ]
    },
    {
      "cell_type": "markdown",
      "source": [
        "Gráfico de barras de la media de cada atributo, diferenciado por clase."
      ],
      "metadata": {
        "id": "YwB7Ptuz-HFx"
      }
    },
    {
      "cell_type": "code",
      "source": [
        "plot_data = iris.groupby('name').mean()\n",
        "plot_data.plot(kind='bar')"
      ],
      "metadata": {
        "colab": {
          "base_uri": "https://localhost:8080/",
          "height": 336
        },
        "id": "C_ASPMg_-KNH",
        "outputId": "ba8491c8-38fa-43fc-9e61-bcc8187689c4"
      },
      "execution_count": null,
      "outputs": [
        {
          "output_type": "execute_result",
          "data": {
            "text/plain": [
              "<matplotlib.axes._subplots.AxesSubplot at 0x7f7d76fbd750>"
            ]
          },
          "metadata": {},
          "execution_count": 12
        },
        {
          "output_type": "display_data",
          "data": {
            "text/plain": [
              "<Figure size 432x288 with 1 Axes>"
            ],
            "image/png": "[encoded data removed]"
          },
          "metadata": {
            "needs_background": "light"
          }
        }
      ]
    },
    {
      "cell_type": "markdown",
      "source": [
        "**C. Histograma de todas las variables**"
      ],
      "metadata": {
        "id": "rZ4CEGflDFXV"
      }
    },
    {
      "cell_type": "markdown",
      "source": [
        "Crea un histograma para cada columna del dataframe\n"
      ],
      "metadata": {
        "id": "wUzbyvzv-Oxv"
      }
    },
    {
      "cell_type": "code",
      "source": [
        "iris.hist()"
      ],
      "metadata": {
        "colab": {
          "base_uri": "https://localhost:8080/",
          "height": 371
        },
        "id": "h8kfyd6V-RAI",
        "outputId": "077fecfd-1a69-4e3d-923f-411b6b3e55a6"
      },
      "execution_count": null,
      "outputs": [
        {
          "output_type": "execute_result",
          "data": {
            "text/plain": [
              "array([[<matplotlib.axes._subplots.AxesSubplot object at 0x7f7d76ef1650>,\n",
              "        <matplotlib.axes._subplots.AxesSubplot object at 0x7f7d76ea4450>],\n",
              "       [<matplotlib.axes._subplots.AxesSubplot object at 0x7f7d76edba50>,\n",
              "        <matplotlib.axes._subplots.AxesSubplot object at 0x7f7d76e86bd0>]],\n",
              "      dtype=object)"
            ]
          },
          "metadata": {},
          "execution_count": 13
        },
        {
          "output_type": "display_data",
          "data": {
            "text/plain": [
              "<Figure size 432x288 with 4 Axes>"
            ],
            "image/png": "[encoded data removed]"
          },
          "metadata": {
            "needs_background": "light"
          }
        }
      ]
    },
    {
      "cell_type": "markdown",
      "source": [
        "Crea un histograma para la columna “sepal_length”\n"
      ],
      "metadata": {
        "id": "TfcwEtWI-WE_"
      }
    },
    {
      "cell_type": "code",
      "source": [
        "iris.sepal_length.hist(bins=30)"
      ],
      "metadata": {
        "colab": {
          "base_uri": "https://localhost:8080/",
          "height": 283
        },
        "id": "-e-47eGg-aqK",
        "outputId": "237b8f87-7dc9-4b60-aba5-72609128288e"
      },
      "execution_count": null,
      "outputs": [
        {
          "output_type": "execute_result",
          "data": {
            "text/plain": [
              "<matplotlib.axes._subplots.AxesSubplot at 0x7f7d76d5ec90>"
            ]
          },
          "metadata": {},
          "execution_count": 14
        },
        {
          "output_type": "display_data",
          "data": {
            "text/plain": [
              "<Figure size 432x288 with 1 Axes>"
            ],
            "image/png": "[encoded data removed]"
          },
          "metadata": {
            "needs_background": "light"
          }
        }
      ]
    },
    {
      "cell_type": "markdown",
      "source": [
        "Crea un histograma para la columna “sepal_length”\n"
      ],
      "metadata": {
        "id": "HGGsm-sQAkox"
      }
    },
    {
      "cell_type": "code",
      "source": [
        "iris.sepal_width.hist(bins=30)"
      ],
      "metadata": {
        "colab": {
          "base_uri": "https://localhost:8080/",
          "height": 283
        },
        "id": "ZUVJovPyAkyg",
        "outputId": "33020bcc-7b6b-4909-debb-d7b502a124df"
      },
      "execution_count": null,
      "outputs": [
        {
          "output_type": "execute_result",
          "data": {
            "text/plain": [
              "<matplotlib.axes._subplots.AxesSubplot at 0x7f7d83055cd0>"
            ]
          },
          "metadata": {},
          "execution_count": 15
        },
        {
          "output_type": "display_data",
          "data": {
            "text/plain": [
              "<Figure size 432x288 with 1 Axes>"
            ],
            "image/png": "[encoded data removed]"
          },
          "metadata": {
            "needs_background": "light"
          }
        }
      ]
    },
    {
      "cell_type": "markdown",
      "source": [
        "Crea un histograma para la columna “petal_width”"
      ],
      "metadata": {
        "id": "gROUu2NXDiri"
      }
    },
    {
      "cell_type": "code",
      "source": [
        "iris.petal_width.hist(bins=30)"
      ],
      "metadata": {
        "colab": {
          "base_uri": "https://localhost:8080/",
          "height": 283
        },
        "id": "L-D4bdV9Di0i",
        "outputId": "6c0d2821-6cf9-4158-9103-624fc676cc70"
      },
      "execution_count": null,
      "outputs": [
        {
          "output_type": "execute_result",
          "data": {
            "text/plain": [
              "<matplotlib.axes._subplots.AxesSubplot at 0x7f7d76cd9e50>"
            ]
          },
          "metadata": {},
          "execution_count": 16
        },
        {
          "output_type": "display_data",
          "data": {
            "text/plain": [
              "<Figure size 432x288 with 1 Axes>"
            ],
            "image/png": "[encoded data removed]"
          },
          "metadata": {
            "needs_background": "light"
          }
        }
      ]
    },
    {
      "cell_type": "markdown",
      "source": [
        "Crea un histograma para la columna “petal_length”"
      ],
      "metadata": {
        "id": "Lzf-5XKvDi7a"
      }
    },
    {
      "cell_type": "code",
      "source": [
        "iris.petal_length.hist(bins=30)"
      ],
      "metadata": {
        "colab": {
          "base_uri": "https://localhost:8080/",
          "height": 283
        },
        "id": "9F3lMOtKDjCR",
        "outputId": "c12fa54b-4cc4-4afa-d58b-6c2c6c595667"
      },
      "execution_count": null,
      "outputs": [
        {
          "output_type": "execute_result",
          "data": {
            "text/plain": [
              "<matplotlib.axes._subplots.AxesSubplot at 0x7f7d776831d0>"
            ]
          },
          "metadata": {},
          "execution_count": 17
        },
        {
          "output_type": "display_data",
          "data": {
            "text/plain": [
              "<Figure size 432x288 with 1 Axes>"
            ],
            "image/png": "[encoded data removed]"
          },
          "metadata": {
            "needs_background": "light"
          }
        }
      ]
    },
    {
      "cell_type": "markdown",
      "source": [
        "**D. Matriz de correlación entre features**"
      ],
      "metadata": {
        "id": "884s7OCi-gB3"
      }
    },
    {
      "cell_type": "code",
      "source": [
        "round(iris.corr(), 2)"
      ],
      "metadata": {
        "colab": {
          "base_uri": "https://localhost:8080/",
          "height": 175
        },
        "id": "tz2_-86T-jU3",
        "outputId": "d9e6de0b-c084-4a15-87bc-4ab691378704"
      },
      "execution_count": null,
      "outputs": [
        {
          "output_type": "execute_result",
          "data": {
            "text/plain": [
              "              sepal_length  sepal_width  petal_length  petal_width\n",
              "sepal_length          1.00        -0.11          0.87         0.82\n",
              "sepal_width          -0.11         1.00         -0.42        -0.36\n",
              "petal_length          0.87        -0.42          1.00         0.96\n",
              "petal_width           0.82        -0.36          0.96         1.00"
            ],
            "text/html": [
              "\n",
              "  <div id=\"df-faeaa85c-5aa3-44fb-a37d-9c6e9489d5bf\">\n",
              "    <div class=\"colab-df-container\">\n",
              "      <div>\n",
              "<style scoped>\n",
              "    .dataframe tbody tr th:only-of-type {\n",
              "        vertical-align: middle;\n",
              "    }\n",
              "\n",
              "    .dataframe tbody tr th {\n",
              "        vertical-align: top;\n",
              "    }\n",
              "\n",
              "    .dataframe thead th {\n",
              "        text-align: right;\n",
              "    }\n",
              "</style>\n",
              "<table border=\"1\" class=\"dataframe\">\n",
              "  <thead>\n",
              "    <tr style=\"text-align: right;\">\n",
              "      <th></th>\n",
              "      <th>sepal_length</th>\n",
              "      <th>sepal_width</th>\n",
              "      <th>petal_length</th>\n",
              "      <th>petal_width</th>\n",
              "    </tr>\n",
              "  </thead>\n",
              "  <tbody>\n",
              "    <tr>\n",
              "      <th>sepal_length</th>\n",
              "      <td>1.00</td>\n",
              "      <td>-0.11</td>\n",
              "      <td>0.87</td>\n",
              "      <td>0.82</td>\n",
              "    </tr>\n",
              "    <tr>\n",
              "      <th>sepal_width</th>\n",
              "      <td>-0.11</td>\n",
              "      <td>1.00</td>\n",
              "      <td>-0.42</td>\n",
              "      <td>-0.36</td>\n",
              "    </tr>\n",
              "    <tr>\n",
              "      <th>petal_length</th>\n",
              "      <td>0.87</td>\n",
              "      <td>-0.42</td>\n",
              "      <td>1.00</td>\n",
              "      <td>0.96</td>\n",
              "    </tr>\n",
              "    <tr>\n",
              "      <th>petal_width</th>\n",
              "      <td>0.82</td>\n",
              "      <td>-0.36</td>\n",
              "      <td>0.96</td>\n",
              "      <td>1.00</td>\n",
              "    </tr>\n",
              "  </tbody>\n",
              "</table>\n",
              "</div>\n",
              "      <button class=\"colab-df-convert\" onclick=\"convertToInteractive('df-faeaa85c-5aa3-44fb-a37d-9c6e9489d5bf')\"\n",
              "              title=\"Convert this dataframe to an interactive table.\"\n",
              "              style=\"display:none;\">\n",
              "        \n",
              "  <svg xmlns=\"http://www.w3.org/2000/svg\" height=\"24px\"viewBox=\"0 0 24 24\"\n",
              "       width=\"24px\">\n",
              "    <path d=\"M0 0h24v24H0V0z\" fill=\"none\"/>\n",
              "    <path d=\"M18.56 5.44l.94 2.06.94-2.06 2.06-.94-2.06-.94-.94-2.06-.94 2.06-2.06.94zm-11 1L8.5 8.5l.94-2.06 2.06-.94-2.06-.94L8.5 2.5l-.94 2.06-2.06.94zm10 10l.94 2.06.94-2.06 2.06-.94-2.06-.94-.94-2.06-.94 2.06-2.06.94z\"/><path d=\"M17.41 7.96l-1.37-1.37c-.4-.4-.92-.59-1.43-.59-.52 0-1.04.2-1.43.59L10.3 9.45l-7.72 7.72c-.78.78-.78 2.05 0 2.83L4 21.41c.39.39.9.59 1.41.59.51 0 1.02-.2 1.41-.59l7.78-7.78 2.81-2.81c.8-.78.8-2.07 0-2.86zM5.41 20L4 18.59l7.72-7.72 1.47 1.35L5.41 20z\"/>\n",
              "  </svg>\n",
              "      </button>\n",
              "      \n",
              "  <style>\n",
              "    .colab-df-container {\n",
              "      display:flex;\n",
              "      flex-wrap:wrap;\n",
              "      gap: 12px;\n",
              "    }\n",
              "\n",
              "    .colab-df-convert {\n",
              "      background-color: #E8F0FE;\n",
              "      border: none;\n",
              "      border-radius: 50%;\n",
              "      cursor: pointer;\n",
              "      display: none;\n",
              "      fill: #1967D2;\n",
              "      height: 32px;\n",
              "      padding: 0 0 0 0;\n",
              "      width: 32px;\n",
              "    }\n",
              "\n",
              "    .colab-df-convert:hover {\n",
              "      background-color: #E2EBFA;\n",
              "      box-shadow: 0px 1px 2px rgba(60, 64, 67, 0.3), 0px 1px 3px 1px rgba(60, 64, 67, 0.15);\n",
              "      fill: #174EA6;\n",
              "    }\n",
              "\n",
              "    [theme=dark] .colab-df-convert {\n",
              "      background-color: #3B4455;\n",
              "      fill: #D2E3FC;\n",
              "    }\n",
              "\n",
              "    [theme=dark] .colab-df-convert:hover {\n",
              "      background-color: #434B5C;\n",
              "      box-shadow: 0px 1px 3px 1px rgba(0, 0, 0, 0.15);\n",
              "      filter: drop-shadow(0px 1px 2px rgba(0, 0, 0, 0.3));\n",
              "      fill: #FFFFFF;\n",
              "    }\n",
              "  </style>\n",
              "\n",
              "      <script>\n",
              "        const buttonEl =\n",
              "          document.querySelector('#df-faeaa85c-5aa3-44fb-a37d-9c6e9489d5bf button.colab-df-convert');\n",
              "        buttonEl.style.display =\n",
              "          google.colab.kernel.accessAllowed ? 'block' : 'none';\n",
              "\n",
              "        async function convertToInteractive(key) {\n",
              "          const element = document.querySelector('#df-faeaa85c-5aa3-44fb-a37d-9c6e9489d5bf');\n",
              "          const dataTable =\n",
              "            await google.colab.kernel.invokeFunction('convertToInteractive',\n",
              "                                                     [key], {});\n",
              "          if (!dataTable) return;\n",
              "\n",
              "          const docLinkHtml = 'Like what you see? Visit the ' +\n",
              "            '<a target=\"_blank\" href=https://colab.research.google.com/notebooks/data_table.ipynb>data table notebook</a>'\n",
              "            + ' to learn more about interactive tables.';\n",
              "          element.innerHTML = '';\n",
              "          dataTable['output_type'] = 'display_data';\n",
              "          await google.colab.output.renderOutput(dataTable, element);\n",
              "          const docLink = document.createElement('div');\n",
              "          docLink.innerHTML = docLinkHtml;\n",
              "          element.appendChild(docLink);\n",
              "        }\n",
              "      </script>\n",
              "    </div>\n",
              "  </div>\n",
              "  "
            ]
          },
          "metadata": {},
          "execution_count": 18
        }
      ]
    },
    {
      "cell_type": "markdown",
      "source": [
        "Visualización del dataframe con Spyder"
      ],
      "metadata": {
        "id": "f8KxrjZj-e-o"
      }
    },
    {
      "cell_type": "markdown",
      "source": [
        "**B. SCATTER**"
      ],
      "metadata": {
        "id": "FNlGn0d2_Tjx"
      }
    },
    {
      "cell_type": "markdown",
      "source": [
        "Scatter permite visualizar una dispersión de puntos en un espacio 2D.\n",
        "Al tener 4 variables (iris), no podemos visualizar todas al mismo tiempo, pero\n",
        "podemos hacer un corte 2D para dos de ellas. Equivalente a mirar las estrellas en la noche, sin saber a qué distancia están."
      ],
      "metadata": {
        "id": "AR3OqV00_XAH"
      }
    },
    {
      "cell_type": "markdown",
      "source": [
        "A matplotlib le tenés que dar una lista de números en el parámetro c donde name en vez de tener: \"setosa\", \"setosa\", \"virginica\", etc. tenga por ej: 1, 1, 0, etc"
      ],
      "metadata": {
        "id": "PjTe-VEc5ug7"
      }
    },
    {
      "cell_type": "code",
      "source": [
        "from sklearn.preprocessing import LabelEncoder\n",
        "\n",
        "le = LabelEncoder()\n",
        "le.fit(iris.name)\n",
        "name = le.transform(iris.name)"
      ],
      "metadata": {
        "id": "hznfqkddANOQ"
      },
      "execution_count": null,
      "outputs": []
    },
    {
      "cell_type": "code",
      "source": [
        "plt.scatter(iris.sepal_length, iris.sepal_width, c = name)\n",
        "plt.title('Iris dataset')\n",
        "plt.xlabel('sepal length')\n",
        "plt.ylabel('sepal width')"
      ],
      "metadata": {
        "colab": {
          "base_uri": "https://localhost:8080/",
          "height": 313
        },
        "id": "XcQRlis_-n3h",
        "outputId": "74283fbb-b8c3-40d5-9955-0c156b2e4903"
      },
      "execution_count": null,
      "outputs": [
        {
          "output_type": "execute_result",
          "data": {
            "text/plain": [
              "Text(0, 0.5, 'sepal width')"
            ]
          },
          "metadata": {},
          "execution_count": 37
        },
        {
          "output_type": "display_data",
          "data": {
            "text/plain": [
              "<Figure size 432x288 with 1 Axes>"
            ],
            "image/png": "[encoded data removed]"
          },
          "metadata": {
            "needs_background": "light"
          }
        }
      ]
    },
    {
      "cell_type": "markdown",
      "source": [
        "Otra alternativa es utilizar la librería de Google Colaboratory que genera un gráfico interactivo y no hace falta que transformar el iris.name a números."
      ],
      "metadata": {
        "id": "QIFAAH1c5UoY"
      }
    },
    {
      "cell_type": "code",
      "source": [
        "!pip install plotly_express\n",
        "\n",
        "import plotly_express as px\n",
        "\n",
        "px.scatter(iris, x='sepal_length', y='sepal_width', color='name')"
      ],
      "metadata": {
        "colab": {
          "base_uri": "https://localhost:8080/",
          "height": 779
        },
        "id": "7GQV80br5gsE",
        "outputId": "a97d9d8c-0297-455a-9867-53726b8eb21b"
      },
      "execution_count": null,
      "outputs": [
        {
          "output_type": "stream",
          "name": "stdout",
          "text": [
            "Looking in indexes: https://pypi.org/simple, https://us-python.pkg.dev/colab-wheels/public/simple/\n",
            "Requirement already satisfied: plotly_express in /usr/local/lib/python3.7/dist-packages (0.4.1)\n",
            "Requirement already satisfied: patsy>=0.5 in /usr/local/lib/python3.7/dist-packages (from plotly_express) (0.5.2)\n",
            "Requirement already satisfied: numpy>=1.11 in /usr/local/lib/python3.7/dist-packages (from plotly_express) (1.21.6)\n",
            "Requirement already satisfied: scipy>=0.18 in /usr/local/lib/python3.7/dist-packages (from plotly_express) (1.7.3)\n",
            "Requirement already satisfied: pandas>=0.20.0 in /usr/local/lib/python3.7/dist-packages (from plotly_express) (1.3.5)\n",
            "Requirement already satisfied: plotly>=4.1.0 in /usr/local/lib/python3.7/dist-packages (from plotly_express) (5.5.0)\n",
            "Requirement already satisfied: statsmodels>=0.9.0 in /usr/local/lib/python3.7/dist-packages (from plotly_express) (0.10.2)\n",
            "Requirement already satisfied: pytz>=2017.3 in /usr/local/lib/python3.7/dist-packages (from pandas>=0.20.0->plotly_express) (2022.1)\n",
            "Requirement already satisfied: python-dateutil>=2.7.3 in /usr/local/lib/python3.7/dist-packages (from pandas>=0.20.0->plotly_express) (2.8.2)\n",
            "Requirement already satisfied: six in /usr/local/lib/python3.7/dist-packages (from patsy>=0.5->plotly_express) (1.15.0)\n",
            "Requirement already satisfied: tenacity>=6.2.0 in /usr/local/lib/python3.7/dist-packages (from plotly>=4.1.0->plotly_express) (8.0.1)\n"
          ]
        },
        {
          "output_type": "display_data",
          "data": {
            "text/html": [
              "<html>\n",
              "<head><meta charset=\"utf-8\" /></head>\n",
              "<body>\n",
              "    <div>            <script src=\"https://cdnjs.cloudflare.com/ajax/libs/mathjax/2.7.5/MathJax.js?config=TeX-AMS-MML_SVG\"></script><script type=\"text/javascript\">if (window.MathJax) {MathJax.Hub.Config({SVG: {font: \"STIX-Web\"}});}</script>                <script type=\"text/javascript\">window.PlotlyConfig = {MathJaxConfig: 'local'};</script>\n",
              "        <script src=\"https://cdn.plot.ly/plotly-2.8.3.min.js\"></script>                <div id=\"d6fe5858-03a9-4bd3-a31c-af7e1cc125c0\" class=\"plotly-graph-div\" style=\"height:525px; width:100%;\"></div>            <script type=\"text/javascript\">                                    window.PLOTLYENV=window.PLOTLYENV || {};                                    if (document.getElementById(\"d6fe5858-03a9-4bd3-a31c-af7e1cc125c0\")) {                    Plotly.newPlot(                        \"d6fe5858-03a9-4bd3-a31c-af7e1cc125c0\",                        [{\"hovertemplate\":\"name=setosa<br>sepal_length=%{x}<br>sepal_width=%{y}<extra></extra>\",\"legendgroup\":\"setosa\",\"marker\":{\"color\":\"#636efa\",\"symbol\":\"circle\"},\"mode\":\"markers\",\"name\":\"setosa\",\"orientation\":\"v\",\"showlegend\":true,\"x\":[5.1,4.9,4.7,4.6,5.0,5.4,4.6,5.0,4.4,4.9,5.4,4.8,4.8,4.3,5.8,5.7,5.4,5.1,5.7,5.1,5.4,5.1,4.6,5.1,4.8,5.0,5.0,5.2,5.2,4.7,4.8,5.4,5.2,5.5,4.9,5.0,5.5,4.9,4.4,5.1,5.0,4.5,4.4,5.0,5.1,4.8,5.1,4.6,5.3,5.0],\"xaxis\":\"x\",\"y\":[3.5,3.0,3.2,3.1,3.6,3.9,3.4,3.4,2.9,3.1,3.7,3.4,3.0,3.0,4.0,4.4,3.9,3.5,3.8,3.8,3.4,3.7,3.6,3.3,3.4,3.0,3.4,3.5,3.4,3.2,3.1,3.4,4.1,4.2,3.1,3.2,3.5,3.1,3.0,3.4,3.5,2.3,3.2,3.5,3.8,3.0,3.8,3.2,3.7,3.3],\"yaxis\":\"y\",\"type\":\"scatter\"},{\"hovertemplate\":\"name=versicolor<br>sepal_length=%{x}<br>sepal_width=%{y}<extra></extra>\",\"legendgroup\":\"versicolor\",\"marker\":{\"color\":\"#EF553B\",\"symbol\":\"circle\"},\"mode\":\"markers\",\"name\":\"versicolor\",\"orientation\":\"v\",\"showlegend\":true,\"x\":[7.0,6.4,6.9,5.5,6.5,5.7,6.3,4.9,6.6,5.2,5.0,5.9,6.0,6.1,5.6,6.7,5.6,5.8,6.2,5.6,5.9,6.1,6.3,6.1,6.4,6.6,6.8,6.7,6.0,5.7,5.5,5.5,5.8,6.0,5.4,6.0,6.7,6.3,5.6,5.5,5.5,6.1,5.8,5.0,5.6,5.7,5.7,6.2,5.1,5.7],\"xaxis\":\"x\",\"y\":[3.2,3.2,3.1,2.3,2.8,2.8,3.3,2.4,2.9,2.7,2.0,3.0,2.2,2.9,2.9,3.1,3.0,2.7,2.2,2.5,3.2,2.8,2.5,2.8,2.9,3.0,2.8,3.0,2.9,2.6,2.4,2.4,2.7,2.7,3.0,3.4,3.1,2.3,3.0,2.5,2.6,3.0,2.6,2.3,2.7,3.0,2.9,2.9,2.5,2.8],\"yaxis\":\"y\",\"type\":\"scatter\"},{\"hovertemplate\":\"name=virginica<br>sepal_length=%{x}<br>sepal_width=%{y}<extra></extra>\",\"legendgroup\":\"virginica\",\"marker\":{\"color\":\"#00cc96\",\"symbol\":\"circle\"},\"mode\":\"markers\",\"name\":\"virginica\",\"orientation\":\"v\",\"showlegend\":true,\"x\":[6.3,5.8,7.1,6.3,6.5,7.6,4.9,7.3,6.7,7.2,6.5,6.4,6.8,5.7,5.8,6.4,6.5,7.7,7.7,6.0,6.9,5.6,7.7,6.3,6.7,7.2,6.2,6.1,6.4,7.2,7.4,7.9,6.4,6.3,6.1,7.7,6.3,6.4,6.0,6.9,6.7,6.9,5.8,6.8,6.7,6.7,6.3,6.5,6.2,5.9],\"xaxis\":\"x\",\"y\":[3.3,2.7,3.0,2.9,3.0,3.0,2.5,2.9,2.5,3.6,3.2,2.7,3.0,2.5,2.8,3.2,3.0,3.8,2.6,2.2,3.2,2.8,2.8,2.7,3.3,3.2,2.8,3.0,2.8,3.0,2.8,3.8,2.8,2.8,2.6,3.0,3.4,3.1,3.0,3.1,3.1,3.1,2.7,3.2,3.3,3.0,2.5,3.0,3.4,3.0],\"yaxis\":\"y\",\"type\":\"scatter\"}],                        {\"template\":{\"data\":{\"bar\":[{\"error_x\":{\"color\":\"#2a3f5f\"},\"error_y\":{\"color\":\"#2a3f5f\"},\"marker\":{\"line\":{\"color\":\"#E5ECF6\",\"width\":0.5},\"pattern\":{\"fillmode\":\"overlay\",\"size\":10,\"solidity\":0.2}},\"type\":\"bar\"}],\"barpolar\":[{\"marker\":{\"line\":{\"color\":\"#E5ECF6\",\"width\":0.5},\"pattern\":{\"fillmode\":\"overlay\",\"size\":10,\"solidity\":0.2}},\"type\":\"barpolar\"}],\"carpet\":[{\"aaxis\":{\"endlinecolor\":\"#2a3f5f\",\"gridcolor\":\"white\",\"linecolor\":\"white\",\"minorgridcolor\":\"white\",\"startlinecolor\":\"#2a3f5f\"},\"baxis\":{\"endlinecolor\":\"#2a3f5f\",\"gridcolor\":\"white\",\"linecolor\":\"white\",\"minorgridcolor\":\"white\",\"startlinecolor\":\"#2a3f5f\"},\"type\":\"carpet\"}],\"choropleth\":[{\"colorbar\":{\"outlinewidth\":0,\"ticks\":\"\"},\"type\":\"choropleth\"}],\"contour\":[{\"colorbar\":{\"outlinewidth\":0,\"ticks\":\"\"},\"colorscale\":[[0.0,\"#0d0887\"],[0.1111111111111111,\"#46039f\"],[0.2222222222222222,\"#7201a8\"],[0.3333333333333333,\"#9c179e\"],[0.4444444444444444,\"#bd3786\"],[0.5555555555555556,\"#d8576b\"],[0.6666666666666666,\"#ed7953\"],[0.7777777777777778,\"#fb9f3a\"],[0.8888888888888888,\"#fdca26\"],[1.0,\"#f0f921\"]],\"type\":\"contour\"}],\"contourcarpet\":[{\"colorbar\":{\"outlinewidth\":0,\"ticks\":\"\"},\"type\":\"contourcarpet\"}],\"heatmap\":[{\"colorbar\":{\"outlinewidth\":0,\"ticks\":\"\"},\"colorscale\":[[0.0,\"#0d0887\"],[0.1111111111111111,\"#46039f\"],[0.2222222222222222,\"#7201a8\"],[0.3333333333333333,\"#9c179e\"],[0.4444444444444444,\"#bd3786\"],[0.5555555555555556,\"#d8576b\"],[0.6666666666666666,\"#ed7953\"],[0.7777777777777778,\"#fb9f3a\"],[0.8888888888888888,\"#fdca26\"],[1.0,\"#f0f921\"]],\"type\":\"heatmap\"}],\"heatmapgl\":[{\"colorbar\":{\"outlinewidth\":0,\"ticks\":\"\"},\"colorscale\":[[0.0,\"#0d0887\"],[0.1111111111111111,\"#46039f\"],[0.2222222222222222,\"#7201a8\"],[0.3333333333333333,\"#9c179e\"],[0.4444444444444444,\"#bd3786\"],[0.5555555555555556,\"#d8576b\"],[0.6666666666666666,\"#ed7953\"],[0.7777777777777778,\"#fb9f3a\"],[0.8888888888888888,\"#fdca26\"],[1.0,\"#f0f921\"]],\"type\":\"heatmapgl\"}],\"histogram\":[{\"marker\":{\"pattern\":{\"fillmode\":\"overlay\",\"size\":10,\"solidity\":0.2}},\"type\":\"histogram\"}],\"histogram2d\":[{\"colorbar\":{\"outlinewidth\":0,\"ticks\":\"\"},\"colorscale\":[[0.0,\"#0d0887\"],[0.1111111111111111,\"#46039f\"],[0.2222222222222222,\"#7201a8\"],[0.3333333333333333,\"#9c179e\"],[0.4444444444444444,\"#bd3786\"],[0.5555555555555556,\"#d8576b\"],[0.6666666666666666,\"#ed7953\"],[0.7777777777777778,\"#fb9f3a\"],[0.8888888888888888,\"#fdca26\"],[1.0,\"#f0f921\"]],\"type\":\"histogram2d\"}],\"histogram2dcontour\":[{\"colorbar\":{\"outlinewidth\":0,\"ticks\":\"\"},\"colorscale\":[[0.0,\"#0d0887\"],[0.1111111111111111,\"#46039f\"],[0.2222222222222222,\"#7201a8\"],[0.3333333333333333,\"#9c179e\"],[0.4444444444444444,\"#bd3786\"],[0.5555555555555556,\"#d8576b\"],[0.6666666666666666,\"#ed7953\"],[0.7777777777777778,\"#fb9f3a\"],[0.8888888888888888,\"#fdca26\"],[1.0,\"#f0f921\"]],\"type\":\"histogram2dcontour\"}],\"mesh3d\":[{\"colorbar\":{\"outlinewidth\":0,\"ticks\":\"\"},\"type\":\"mesh3d\"}],\"parcoords\":[{\"line\":{\"colorbar\":{\"outlinewidth\":0,\"ticks\":\"\"}},\"type\":\"parcoords\"}],\"pie\":[{\"automargin\":true,\"type\":\"pie\"}],\"scatter\":[{\"marker\":{\"colorbar\":{\"outlinewidth\":0,\"ticks\":\"\"}},\"type\":\"scatter\"}],\"scatter3d\":[{\"line\":{\"colorbar\":{\"outlinewidth\":0,\"ticks\":\"\"}},\"marker\":{\"colorbar\":{\"outlinewidth\":0,\"ticks\":\"\"}},\"type\":\"scatter3d\"}],\"scattercarpet\":[{\"marker\":{\"colorbar\":{\"outlinewidth\":0,\"ticks\":\"\"}},\"type\":\"scattercarpet\"}],\"scattergeo\":[{\"marker\":{\"colorbar\":{\"outlinewidth\":0,\"ticks\":\"\"}},\"type\":\"scattergeo\"}],\"scattergl\":[{\"marker\":{\"colorbar\":{\"outlinewidth\":0,\"ticks\":\"\"}},\"type\":\"scattergl\"}],\"scattermapbox\":[{\"marker\":{\"colorbar\":{\"outlinewidth\":0,\"ticks\":\"\"}},\"type\":\"scattermapbox\"}],\"scatterpolar\":[{\"marker\":{\"colorbar\":{\"outlinewidth\":0,\"ticks\":\"\"}},\"type\":\"scatterpolar\"}],\"scatterpolargl\":[{\"marker\":{\"colorbar\":{\"outlinewidth\":0,\"ticks\":\"\"}},\"type\":\"scatterpolargl\"}],\"scatterternary\":[{\"marker\":{\"colorbar\":{\"outlinewidth\":0,\"ticks\":\"\"}},\"type\":\"scatterternary\"}],\"surface\":[{\"colorbar\":{\"outlinewidth\":0,\"ticks\":\"\"},\"colorscale\":[[0.0,\"#0d0887\"],[0.1111111111111111,\"#46039f\"],[0.2222222222222222,\"#7201a8\"],[0.3333333333333333,\"#9c179e\"],[0.4444444444444444,\"#bd3786\"],[0.5555555555555556,\"#d8576b\"],[0.6666666666666666,\"#ed7953\"],[0.7777777777777778,\"#fb9f3a\"],[0.8888888888888888,\"#fdca26\"],[1.0,\"#f0f921\"]],\"type\":\"surface\"}],\"table\":[{\"cells\":{\"fill\":{\"color\":\"#EBF0F8\"},\"line\":{\"color\":\"white\"}},\"header\":{\"fill\":{\"color\":\"#C8D4E3\"},\"line\":{\"color\":\"white\"}},\"type\":\"table\"}]},\"layout\":{\"annotationdefaults\":{\"arrowcolor\":\"#2a3f5f\",\"arrowhead\":0,\"arrowwidth\":1},\"autotypenumbers\":\"strict\",\"coloraxis\":{\"colorbar\":{\"outlinewidth\":0,\"ticks\":\"\"}},\"colorscale\":{\"diverging\":[[0,\"#8e0152\"],[0.1,\"#c51b7d\"],[0.2,\"#de77ae\"],[0.3,\"#f1b6da\"],[0.4,\"#fde0ef\"],[0.5,\"#f7f7f7\"],[0.6,\"#e6f5d0\"],[0.7,\"#b8e186\"],[0.8,\"#7fbc41\"],[0.9,\"#4d9221\"],[1,\"#276419\"]],\"sequential\":[[0.0,\"#0d0887\"],[0.1111111111111111,\"#46039f\"],[0.2222222222222222,\"#7201a8\"],[0.3333333333333333,\"#9c179e\"],[0.4444444444444444,\"#bd3786\"],[0.5555555555555556,\"#d8576b\"],[0.6666666666666666,\"#ed7953\"],[0.7777777777777778,\"#fb9f3a\"],[0.8888888888888888,\"#fdca26\"],[1.0,\"#f0f921\"]],\"sequentialminus\":[[0.0,\"#0d0887\"],[0.1111111111111111,\"#46039f\"],[0.2222222222222222,\"#7201a8\"],[0.3333333333333333,\"#9c179e\"],[0.4444444444444444,\"#bd3786\"],[0.5555555555555556,\"#d8576b\"],[0.6666666666666666,\"#ed7953\"],[0.7777777777777778,\"#fb9f3a\"],[0.8888888888888888,\"#fdca26\"],[1.0,\"#f0f921\"]]},\"colorway\":[\"#636efa\",\"#EF553B\",\"#00cc96\",\"#ab63fa\",\"#FFA15A\",\"#19d3f3\",\"#FF6692\",\"#B6E880\",\"#FF97FF\",\"#FECB52\"],\"font\":{\"color\":\"#2a3f5f\"},\"geo\":{\"bgcolor\":\"white\",\"lakecolor\":\"white\",\"landcolor\":\"#E5ECF6\",\"showlakes\":true,\"showland\":true,\"subunitcolor\":\"white\"},\"hoverlabel\":{\"align\":\"left\"},\"hovermode\":\"closest\",\"mapbox\":{\"style\":\"light\"},\"paper_bgcolor\":\"white\",\"plot_bgcolor\":\"#E5ECF6\",\"polar\":{\"angularaxis\":{\"gridcolor\":\"white\",\"linecolor\":\"white\",\"ticks\":\"\"},\"bgcolor\":\"#E5ECF6\",\"radialaxis\":{\"gridcolor\":\"white\",\"linecolor\":\"white\",\"ticks\":\"\"}},\"scene\":{\"xaxis\":{\"backgroundcolor\":\"#E5ECF6\",\"gridcolor\":\"white\",\"gridwidth\":2,\"linecolor\":\"white\",\"showbackground\":true,\"ticks\":\"\",\"zerolinecolor\":\"white\"},\"yaxis\":{\"backgroundcolor\":\"#E5ECF6\",\"gridcolor\":\"white\",\"gridwidth\":2,\"linecolor\":\"white\",\"showbackground\":true,\"ticks\":\"\",\"zerolinecolor\":\"white\"},\"zaxis\":{\"backgroundcolor\":\"#E5ECF6\",\"gridcolor\":\"white\",\"gridwidth\":2,\"linecolor\":\"white\",\"showbackground\":true,\"ticks\":\"\",\"zerolinecolor\":\"white\"}},\"shapedefaults\":{\"line\":{\"color\":\"#2a3f5f\"}},\"ternary\":{\"aaxis\":{\"gridcolor\":\"white\",\"linecolor\":\"white\",\"ticks\":\"\"},\"baxis\":{\"gridcolor\":\"white\",\"linecolor\":\"white\",\"ticks\":\"\"},\"bgcolor\":\"#E5ECF6\",\"caxis\":{\"gridcolor\":\"white\",\"linecolor\":\"white\",\"ticks\":\"\"}},\"title\":{\"x\":0.05},\"xaxis\":{\"automargin\":true,\"gridcolor\":\"white\",\"linecolor\":\"white\",\"ticks\":\"\",\"title\":{\"standoff\":15},\"zerolinecolor\":\"white\",\"zerolinewidth\":2},\"yaxis\":{\"automargin\":true,\"gridcolor\":\"white\",\"linecolor\":\"white\",\"ticks\":\"\",\"title\":{\"standoff\":15},\"zerolinecolor\":\"white\",\"zerolinewidth\":2}}},\"xaxis\":{\"anchor\":\"y\",\"domain\":[0.0,1.0],\"title\":{\"text\":\"sepal_length\"}},\"yaxis\":{\"anchor\":\"x\",\"domain\":[0.0,1.0],\"title\":{\"text\":\"sepal_width\"}},\"legend\":{\"title\":{\"text\":\"name\"},\"tracegroupgap\":0},\"margin\":{\"t\":60}},                        {\"responsive\": true}                    ).then(function(){\n",
              "                            \n",
              "var gd = document.getElementById('d6fe5858-03a9-4bd3-a31c-af7e1cc125c0');\n",
              "var x = new MutationObserver(function (mutations, observer) {{\n",
              "        var display = window.getComputedStyle(gd).display;\n",
              "        if (!display || display === 'none') {{\n",
              "            console.log([gd, 'removed!']);\n",
              "            Plotly.purge(gd);\n",
              "            observer.disconnect();\n",
              "        }}\n",
              "}});\n",
              "\n",
              "// Listen for the removal of the full notebook cells\n",
              "var notebookContainer = gd.closest('#notebook-container');\n",
              "if (notebookContainer) {{\n",
              "    x.observe(notebookContainer, {childList: true});\n",
              "}}\n",
              "\n",
              "// Listen for the clearing of the current output cell\n",
              "var outputEl = gd.closest('.output');\n",
              "if (outputEl) {{\n",
              "    x.observe(outputEl, {childList: true});\n",
              "}}\n",
              "\n",
              "                        })                };                            </script>        </div>\n",
              "</body>\n",
              "</html>"
            ]
          },
          "metadata": {}
        }
      ]
    },
    {
      "cell_type": "markdown",
      "source": [
        "**Lo que puedo observar es que a menor altura, mayor será el ancho de la planta como es el caso de \"selosa\".**"
      ],
      "metadata": {
        "id": "f8qNDgV-CC1w"
      }
    },
    {
      "cell_type": "markdown",
      "source": [
        "Matriz con scatter 2D para cada par de features (Cuidado si son muchos features !)"
      ],
      "metadata": {
        "id": "_b66qkjM_2wF"
      }
    },
    {
      "cell_type": "code",
      "source": [
        "pd.plotting.scatter_matrix(iris, c = name)"
      ],
      "metadata": {
        "colab": {
          "base_uri": "https://localhost:8080/",
          "height": 596
        },
        "id": "jaEvURO7_5fj",
        "outputId": "4f4baffb-d7ee-47d7-f758-1bd6c51fa2f8"
      },
      "execution_count": null,
      "outputs": [
        {
          "output_type": "execute_result",
          "data": {
            "text/plain": [
              "array([[<matplotlib.axes._subplots.AxesSubplot object at 0x7f7d62737950>,\n",
              "        <matplotlib.axes._subplots.AxesSubplot object at 0x7f7d626eb190>,\n",
              "        <matplotlib.axes._subplots.AxesSubplot object at 0x7f7d6269b690>,\n",
              "        <matplotlib.axes._subplots.AxesSubplot object at 0x7f7d626d0b90>],\n",
              "       [<matplotlib.axes._subplots.AxesSubplot object at 0x7f7d626140d0>,\n",
              "        <matplotlib.axes._subplots.AxesSubplot object at 0x7f7d626485d0>,\n",
              "        <matplotlib.axes._subplots.AxesSubplot object at 0x7f7d625ffb50>,\n",
              "        <matplotlib.axes._subplots.AxesSubplot object at 0x7f7d625adb50>],\n",
              "       [<matplotlib.axes._subplots.AxesSubplot object at 0x7f7d625c3050>,\n",
              "        <matplotlib.axes._subplots.AxesSubplot object at 0x7f7d6257a610>,\n",
              "        <matplotlib.axes._subplots.AxesSubplot object at 0x7f7d624e8f10>,\n",
              "        <matplotlib.axes._subplots.AxesSubplot object at 0x7f7d624ab450>],\n",
              "       [<matplotlib.axes._subplots.AxesSubplot object at 0x7f7d62461950>,\n",
              "        <matplotlib.axes._subplots.AxesSubplot object at 0x7f7d62418e50>,\n",
              "        <matplotlib.axes._subplots.AxesSubplot object at 0x7f7d623db390>,\n",
              "        <matplotlib.axes._subplots.AxesSubplot object at 0x7f7d62412890>]],\n",
              "      dtype=object)"
            ]
          },
          "metadata": {},
          "execution_count": 40
        },
        {
          "output_type": "display_data",
          "data": {
            "text/plain": [
              "<Figure size 432x288 with 16 Axes>"
            ],
            "image/png": "[encoded data removed]"
          },
          "metadata": {
            "needs_background": "light"
          }
        }
      ]
    },
    {
      "cell_type": "markdown",
      "source": [
        "**E. Diagramas de Caja**"
      ],
      "metadata": {
        "id": "3X8sPS3_Basb"
      }
    },
    {
      "cell_type": "markdown",
      "source": [
        "Los diagramas de caja le permiten visualizar y comparar la distribución y la tendencia central de valores numéricos mediante sus cuartiles. Los cuartiles son una forma de dividir valores numéricos en cuatro grupos iguales basados en cinco valores clave: mínimo, primer cuartil, mediana, tercer cuartil y máximo.\n",
        "\n",
        "![image.png](data:image/png;base64,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)"
      ],
      "metadata": {
        "id": "O3o2waz_GRAi"
      }
    },
    {
      "cell_type": "code",
      "source": [
        "iris.boxplot()"
      ],
      "metadata": {
        "colab": {
          "base_uri": "https://localhost:8080/",
          "height": 284
        },
        "id": "CrZI3MKzBbfC",
        "outputId": "c55a91aa-2b11-4114-d76c-eb112ca50746"
      },
      "execution_count": null,
      "outputs": [
        {
          "output_type": "execute_result",
          "data": {
            "text/plain": [
              "<matplotlib.axes._subplots.AxesSubplot at 0x7f7d62718bd0>"
            ]
          },
          "metadata": {},
          "execution_count": 42
        },
        {
          "output_type": "display_data",
          "data": {
            "text/plain": [
              "<Figure size 432x288 with 1 Axes>"
            ],
            "image/png": "[encoded data removed]"
          },
          "metadata": {
            "needs_background": "light"
          }
        }
      ]
    },
    {
      "cell_type": "markdown",
      "source": [
        "SEABORN VISUALIZATION:\n",
        "*   https://seaborn.pydata.org/\n",
        "*   https://www.kaggle.com/code/noelano/seaborn-visualization-on-iris-data-set/notebook\n",
        "\n"
      ],
      "metadata": {
        "id": "3KfreyqOBe-Y"
      }
    },
    {
      "cell_type": "code",
      "source": [
        "import seaborn as sns\n",
        "sns.boxplot(data = iris)"
      ],
      "metadata": {
        "colab": {
          "base_uri": "https://localhost:8080/",
          "height": 284
        },
        "id": "nxsA7UHBBudY",
        "outputId": "9abe4498-5761-46f3-eeb6-fb4d76be6d1c"
      },
      "execution_count": null,
      "outputs": [
        {
          "output_type": "execute_result",
          "data": {
            "text/plain": [
              "<matplotlib.axes._subplots.AxesSubplot at 0x7f7d6449d290>"
            ]
          },
          "metadata": {},
          "execution_count": 24
        },
        {
          "output_type": "display_data",
          "data": {
            "text/plain": [
              "<Figure size 432x288 with 1 Axes>"
            ],
            "image/png": "[encoded data removed]"
          },
          "metadata": {
            "needs_background": "light"
          }
        }
      ]
    },
    {
      "cell_type": "code",
      "source": [
        "setosa = iris.query(\"name == 'setosa'\")\n",
        "virginica = iris.query(\"name == 'virginica'\")\n",
        "\n",
        "# Set up the figure\n",
        "f, ax = plt.subplots(figsize=(8, 8))\n",
        "ax.set_aspect(\"equal\")\n",
        "\n",
        "# Draw the two density plots\n",
        "ax = sns.kdeplot(setosa.sepal_width, setosa.sepal_length, cmap=\"Reds\", shade=True, shade_lowest=False)\n",
        "ax = sns.kdeplot(virginica.sepal_width, virginica.sepal_length, cmap=\"Blues\", shade=True, shade_lowest=False)\n",
        "\n",
        "# Add labels to the plot\n",
        "red = sns.color_palette(\"Reds\")[-2]\n",
        "blue = sns.color_palette(\"Blues\")[-2]\n",
        "ax.text(2.5, 8.2, \"virginica\", size=16, color=blue)\n",
        "ax.text(3.8, 4.5, \"setosa\", size=16, color=red)"
      ],
      "metadata": {
        "colab": {
          "base_uri": "https://localhost:8080/",
          "height": 826
        },
        "id": "Rs4rx7MOCEFo",
        "outputId": "80daccd2-eceb-405c-cb60-d41a0535a92e"
      },
      "execution_count": null,
      "outputs": [
        {
          "output_type": "stream",
          "name": "stderr",
          "text": [
            "/usr/local/lib/python3.7/dist-packages/seaborn/_decorators.py:43: FutureWarning:\n",
            "\n",
            "Pass the following variable as a keyword arg: y. From version 0.12, the only valid positional argument will be `data`, and passing other arguments without an explicit keyword will result in an error or misinterpretation.\n",
            "\n",
            "/usr/local/lib/python3.7/dist-packages/seaborn/distributions.py:1718: UserWarning:\n",
            "\n",
            "`shade_lowest` is now deprecated in favor of `thresh`. Setting `thresh=0.05`, but please update your code.\n",
            "\n",
            "/usr/local/lib/python3.7/dist-packages/seaborn/_decorators.py:43: FutureWarning:\n",
            "\n",
            "Pass the following variable as a keyword arg: y. From version 0.12, the only valid positional argument will be `data`, and passing other arguments without an explicit keyword will result in an error or misinterpretation.\n",
            "\n",
            "/usr/local/lib/python3.7/dist-packages/seaborn/distributions.py:1718: UserWarning:\n",
            "\n",
            "`shade_lowest` is now deprecated in favor of `thresh`. Setting `thresh=0.05`, but please update your code.\n",
            "\n"
          ]
        },
        {
          "output_type": "execute_result",
          "data": {
            "text/plain": [
              "Text(3.8, 4.5, 'setosa')"
            ]
          },
          "metadata": {},
          "execution_count": 26
        },
        {
          "output_type": "display_data",
          "data": {
            "text/plain": [
              "<Figure size 576x576 with 1 Axes>"
            ],
            "image/png": "[encoded data removed]"
          },
          "metadata": {
            "needs_background": "light"
          }
        }
      ]
    },
    {
      "cell_type": "markdown",
      "source": [
        "Con este gráfico se llema a la misma concluión ue con el scatter, que es que el tipo de flor \"Virginica\" supera en altura a la \"setosa\", mientras que la \"setosa\" supera en anchura a la \"virginica\"."
      ],
      "metadata": {
        "id": "5arUTadQEGJw"
      }
    },
    {
      "cell_type": "markdown",
      "source": [
        "**PREPROSESAMIENTO**"
      ],
      "metadata": {
        "id": "F3_QMNbFCHOj"
      }
    },
    {
      "cell_type": "markdown",
      "source": [
        "**PREPROCESAMIENTO DE DATOS**\n",
        "\n",
        "3 pasos importantes:\n",
        "*   Revisar valores nulos / faltantes: Un dataset real puede tener muchos registros corruptos\n",
        "*   Manejar datos nominales: Pasar de texto a números (con imágenes este paso\n",
        "no existe)\n",
        "*   Normalizar datos: Los modelos de ML que veremos necesitan datos\n",
        "normalizados.\n",
        "\n",
        "\n"
      ],
      "metadata": {
        "id": "0bJDVXy_COVn"
      }
    },
    {
      "cell_type": "markdown",
      "source": [
        "**VALORES NULOS**\n",
        "\n",
        "¿Qué hacer con los valores nulos? No siempre es simple la decisión.\n",
        "\n",
        "*   Eliminar filas: lo más simple es siempre que haya un valor nulo eliminar\n",
        "todo el registro.\n",
        "*   Eliminar Columnas: otra opción puede ser eliminar una variable\n",
        "particular que contenga una proporción muy grande de valores nulos.\n",
        "*   Reemplazar: Se debe tener mucho cuidado en este caso, ya que estamos\n",
        "inventando los datos. Existe diferentes aproximaciones:\n",
        "\n",
        "  • Reemplazar por la media: Muy peligroso en Machine Learning! Podrían quedar\n",
        "registros incoherentes.\n",
        "  \n",
        "  • Reemplazar por un valor calculado con una regresión u otro algoritmo de ML.\n",
        "  \n",
        "  • Análisis experto. En ocasiones la respuesta puede ser más simple de lo\n",
        "imaginado si conocemos bien el dominio."
      ],
      "metadata": {
        "id": "XO7zCD6NCsRq"
      }
    },
    {
      "cell_type": "markdown",
      "source": [
        "**NOMINAL A CATEGORICO**\n",
        "\n",
        "Convertir atributo nominal a categóricos (setosa=0, vers= 1, virg= 2). Es necesario para que los algoritmos interpreten el atributo “etiqueta”"
      ],
      "metadata": {
        "id": "7hvZk7dRDHKJ"
      }
    },
    {
      "cell_type": "markdown",
      "source": [
        "Guardar previamente los nombres de las etiquetas"
      ],
      "metadata": {
        "id": "Oq6hMqeODU96"
      }
    },
    {
      "cell_type": "code",
      "source": [
        "Labels= np.unique(iris.name)"
      ],
      "metadata": {
        "id": "7OJlGq8DDVQQ"
      },
      "execution_count": null,
      "outputs": []
    },
    {
      "cell_type": "code",
      "source": [
        "iris.name = pd.Categorical(iris.name)\n",
        "iris.name = iris.name.cat.codes"
      ],
      "metadata": {
        "id": "o0ufDBxpDQiR"
      },
      "execution_count": null,
      "outputs": []
    },
    {
      "cell_type": "markdown",
      "source": [
        "**NOMINAL A ONE-SHOT**\n",
        "\n",
        "Cambiar un atributo nominal (texto) a codificación one-hot. La codificación one-hot tiene tantas columnas como etiquetas existan, pero solo una está activa a la vez."
      ],
      "metadata": {
        "id": "Dze_vMKFDdBz"
      }
    },
    {
      "cell_type": "code",
      "source": [
        "iris= pd.get_dummies(data=iris, columns=['name'])"
      ],
      "metadata": {
        "id": "2oHG-tL0Djsp"
      },
      "execution_count": null,
      "outputs": []
    },
    {
      "cell_type": "markdown",
      "source": [
        "**DETECTAR VALORES NULOS**"
      ],
      "metadata": {
        "id": "KTn051B-Dn5Y"
      }
    },
    {
      "cell_type": "markdown",
      "source": [
        "Reporte de valores nulos por columna"
      ],
      "metadata": {
        "id": "FEg1etqGDroo"
      }
    },
    {
      "cell_type": "code",
      "source": [
        "iris.isnull().sum()"
      ],
      "metadata": {
        "colab": {
          "base_uri": "https://localhost:8080/"
        },
        "id": "3OCawLtoDsLZ",
        "outputId": "1115bc59-0212-4c33-9b71-65aa205e45d6"
      },
      "execution_count": null,
      "outputs": [
        {
          "output_type": "execute_result",
          "data": {
            "text/plain": [
              "sepal_length    0\n",
              "sepal_width     0\n",
              "petal_length    0\n",
              "petal_width     0\n",
              "name_0          0\n",
              "name_1          0\n",
              "name_2          0\n",
              "dtype: int64"
            ]
          },
          "metadata": {},
          "execution_count": 40
        }
      ]
    },
    {
      "cell_type": "markdown",
      "source": [
        "Detectar cantidad total de valores nulos"
      ],
      "metadata": {
        "id": "ftpSjCrXDsSn"
      }
    },
    {
      "cell_type": "code",
      "source": [
        "iris.isnull().sum().sum()"
      ],
      "metadata": {
        "colab": {
          "base_uri": "https://localhost:8080/"
        },
        "id": "QxBZzSBLDsZ4",
        "outputId": "876e5217-bade-4b17-944c-96139dd70ffb"
      },
      "execution_count": null,
      "outputs": [
        {
          "output_type": "execute_result",
          "data": {
            "text/plain": [
              "0"
            ]
          },
          "metadata": {},
          "execution_count": 41
        }
      ]
    },
    {
      "cell_type": "markdown",
      "source": [
        "**ELIMINAR FILAS O COLUMNAS**"
      ],
      "metadata": {
        "id": "A6bX0Ou-Dzzr"
      }
    },
    {
      "cell_type": "markdown",
      "source": [
        "Eliminar cualquier fila con valores nulos"
      ],
      "metadata": {
        "id": "DYC40fFKDz3A"
      }
    },
    {
      "cell_type": "code",
      "source": [
        "iris= iris.dropna()"
      ],
      "metadata": {
        "id": "cXf6gmmHDz_R"
      },
      "execution_count": null,
      "outputs": []
    },
    {
      "cell_type": "markdown",
      "source": [
        "Eliminar la columna “name”"
      ],
      "metadata": {
        "id": "68sOTpsCD0Fj"
      }
    },
    {
      "cell_type": "code",
      "source": [
        "X = iris.drop('name', axis=1)"
      ],
      "metadata": {
        "id": "o2qION78D0L5"
      },
      "execution_count": null,
      "outputs": []
    },
    {
      "cell_type": "markdown",
      "source": [
        "**NORMALIZACION DE LOS DATOS**"
      ],
      "metadata": {
        "id": "Gi9IMKPPEHUb"
      }
    },
    {
      "cell_type": "markdown",
      "source": [
        "Para varios modelos que veremos, es un problema que cada feature posea su propio rango de datos. Necesitamos normalizarlos de algún modo\n"
      ],
      "metadata": {
        "id": "cFt4-l5BEMZy"
      }
    },
    {
      "cell_type": "markdown",
      "source": [
        "Min-max (0-1): "
      ],
      "metadata": {
        "id": "H4JOk8V_EZpJ"
      }
    },
    {
      "cell_type": "code",
      "source": [
        "x= (x-min(x)) / (max(x)-min(x))"
      ],
      "metadata": {
        "id": "m7OtnCxtEVfG"
      },
      "execution_count": null,
      "outputs": []
    },
    {
      "cell_type": "markdown",
      "source": [
        "Z-score (μ y σ): "
      ],
      "metadata": {
        "id": "kJqfVHdcEeVh"
      }
    },
    {
      "cell_type": "code",
      "source": [
        "from statistics import mean, stdev\n",
        "x= (x-mean(x)) / stdev(x)"
      ],
      "metadata": {
        "id": "0S1TTE1fFeGj"
      },
      "execution_count": null,
      "outputs": []
    },
    {
      "cell_type": "markdown",
      "source": [
        "Normalizar con min y max."
      ],
      "metadata": {
        "id": "t6ZZF3iiJqUV"
      }
    },
    {
      "cell_type": "code",
      "source": [
        "#Creo un diccionario para poder armar la matriz normalizada columna por columna. \n",
        "dic_iris_normalizado2 = dict()\n",
        "\n",
        "#Armo un for para que se normalice cada una de las columnas. De esta forma evitamos repetir el codigo.  \n",
        "for i in df_iris.columns:\n",
        "  #Creo un if para evitar que me aplique las funciones de minimo y maximo sobre name que tiene datos no numericos. \n",
        "   if i == \"name\":\n",
        "     #Antes de saltearme la columna, debo agregarla para no perder la informacion sobre el nombre de la planta de cada linea. \n",
        "     dic_iris_normalizado2[i] = df_iris[i]\n",
        "     continue\n",
        "   #Calculo el minimo y el maximo de cada una de las columnas.  \n",
        "   min = np.min(df_iris[i])\n",
        "   max = np.max(df_iris[i])\n",
        "   #Se incluye dentro del diccionario cada columna.\n",
        "   dic_iris_normalizado2[i] = (df_iris[i]-min)/(max-min)\n",
        "\n",
        "#Para poder imprimirlo de forma entendible, se debe utilizar la funcion pd.Dataframe()\n",
        "iris_normalizado2 = pd.DataFrame(dic_iris_normalizado2)\n",
        "print(iris_normalizado2)\n",
        "\n",
        "#Histograma Normalizado. \n",
        "iris_normalizado2.hist()"
      ],
      "metadata": {
        "id": "q8XOnDf3DAxK"
      },
      "execution_count": null,
      "outputs": []
    },
    {
      "cell_type": "markdown",
      "source": [
        "Normalizar con Z."
      ],
      "metadata": {
        "id": "aXVxNbPnJqyL"
      }
    },
    {
      "cell_type": "code",
      "source": [
        "#Creo un diccionario para poder armar la matriz normalizada columna por columna. \n",
        "dic_iris_normalizado = dict()\n",
        "\n",
        "#Armo un for para que se normalice cada una de las columnas. De esta forma evitamos repetir el codigo.  \n",
        "for i in df_iris.columns:\n",
        "  #Creo un if para evitar que me aplique las funciones de promedio y desvio sobre name que tiene datos no numericos. \n",
        "   if i == \"name\":\n",
        "     #Antes de saltearme la columna, debo agregarla para no perder la informacion sobre el nombre de la planta de cada linea. \n",
        "     dic_iris_normalizado[i] = df_iris[i]\n",
        "     continue\n",
        "   #Calculo el promedio y el desvio estandar de cada una de las columnas.  \n",
        "   mean = np.mean(df_iris[i])\n",
        "   std = np.std(df_iris[i])\n",
        "   #Se incluye dentro del diccionario cada columna.\n",
        "   dic_iris_normalizado[i] = (df_iris[i]-mean)/std\n",
        "\n",
        "#Para poder imprimirlo de forma entendible, se debe utilizar la funcion pd.Dataframe()\n",
        "iris_normalizado = pd.DataFrame(dic_iris_normalizado)\n",
        "print(iris_normalizado)\n",
        "\n",
        "#Histograma Normalizado. \n",
        "iris_normalizado.hist()"
      ],
      "metadata": {
        "id": "C4unbZDlDAr1"
      },
      "execution_count": null,
      "outputs": []
    }
  ]
}